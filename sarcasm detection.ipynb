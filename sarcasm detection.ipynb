{
 "cells": [
  {
   "cell_type": "markdown",
   "metadata": {},
   "source": [
    "## Import libraries"
   ]
  },
  {
   "cell_type": "code",
   "execution_count": 1,
   "metadata": {
    "execution": {
     "iopub.execute_input": "2021-10-31T06:34:03.154759Z",
     "iopub.status.busy": "2021-10-31T06:34:03.153956Z",
     "iopub.status.idle": "2021-10-31T06:34:03.162742Z",
     "shell.execute_reply": "2021-10-31T06:34:03.161516Z",
     "shell.execute_reply.started": "2021-10-31T06:34:03.154688Z"
    }
   },
   "outputs": [
    {
     "name": "stderr",
     "output_type": "stream",
     "text": [
      "/usr/local/lib/python3.7/site-packages/sklearn/utils/validation.py:37: DeprecationWarning: distutils Version classes are deprecated. Use packaging.version instead.\n",
      "  LARGE_SPARSE_SUPPORTED = LooseVersion(scipy_version) >= '0.14.0'\n",
      "/usr/local/lib/python3.7/site-packages/sklearn/feature_extraction/image.py:167: DeprecationWarning: `np.int` is a deprecated alias for the builtin `int`. To silence this warning, use `int` by itself. Doing this will not modify any behavior and is safe. When replacing `np.int`, you may wish to use e.g. `np.int64` or `np.int32` to specify the precision. If you wish to review your current use, check the release note link for additional information.\n",
      "Deprecated in NumPy 1.20; for more details and guidance: https://numpy.org/devdocs/release/1.20.0-notes.html#deprecations\n",
      "  dtype=np.int):\n",
      "/usr/local/lib/python3.7/site-packages/sklearn/linear_model/least_angle.py:35: DeprecationWarning: `np.float` is a deprecated alias for the builtin `float`. To silence this warning, use `float` by itself. Doing this will not modify any behavior and is safe. If you specifically wanted the numpy scalar type, use `np.float64` here.\n",
      "Deprecated in NumPy 1.20; for more details and guidance: https://numpy.org/devdocs/release/1.20.0-notes.html#deprecations\n",
      "  eps=np.finfo(np.float).eps,\n",
      "/usr/local/lib/python3.7/site-packages/sklearn/linear_model/least_angle.py:597: DeprecationWarning: `np.float` is a deprecated alias for the builtin `float`. To silence this warning, use `float` by itself. Doing this will not modify any behavior and is safe. If you specifically wanted the numpy scalar type, use `np.float64` here.\n",
      "Deprecated in NumPy 1.20; for more details and guidance: https://numpy.org/devdocs/release/1.20.0-notes.html#deprecations\n",
      "  eps=np.finfo(np.float).eps, copy_X=True, fit_path=True,\n",
      "/usr/local/lib/python3.7/site-packages/sklearn/linear_model/least_angle.py:836: DeprecationWarning: `np.float` is a deprecated alias for the builtin `float`. To silence this warning, use `float` by itself. Doing this will not modify any behavior and is safe. If you specifically wanted the numpy scalar type, use `np.float64` here.\n",
      "Deprecated in NumPy 1.20; for more details and guidance: https://numpy.org/devdocs/release/1.20.0-notes.html#deprecations\n",
      "  eps=np.finfo(np.float).eps, copy_X=True, fit_path=True,\n",
      "/usr/local/lib/python3.7/site-packages/sklearn/linear_model/least_angle.py:862: DeprecationWarning: `np.float` is a deprecated alias for the builtin `float`. To silence this warning, use `float` by itself. Doing this will not modify any behavior and is safe. If you specifically wanted the numpy scalar type, use `np.float64` here.\n",
      "Deprecated in NumPy 1.20; for more details and guidance: https://numpy.org/devdocs/release/1.20.0-notes.html#deprecations\n",
      "  eps=np.finfo(np.float).eps, positive=False):\n",
      "/usr/local/lib/python3.7/site-packages/sklearn/linear_model/least_angle.py:1095: DeprecationWarning: `np.float` is a deprecated alias for the builtin `float`. To silence this warning, use `float` by itself. Doing this will not modify any behavior and is safe. If you specifically wanted the numpy scalar type, use `np.float64` here.\n",
      "Deprecated in NumPy 1.20; for more details and guidance: https://numpy.org/devdocs/release/1.20.0-notes.html#deprecations\n",
      "  max_n_alphas=1000, n_jobs=None, eps=np.finfo(np.float).eps,\n",
      "/usr/local/lib/python3.7/site-packages/sklearn/linear_model/least_angle.py:1340: DeprecationWarning: `np.float` is a deprecated alias for the builtin `float`. To silence this warning, use `float` by itself. Doing this will not modify any behavior and is safe. If you specifically wanted the numpy scalar type, use `np.float64` here.\n",
      "Deprecated in NumPy 1.20; for more details and guidance: https://numpy.org/devdocs/release/1.20.0-notes.html#deprecations\n",
      "  max_n_alphas=1000, n_jobs=None, eps=np.finfo(np.float).eps,\n",
      "/usr/local/lib/python3.7/site-packages/sklearn/linear_model/least_angle.py:1476: DeprecationWarning: `np.float` is a deprecated alias for the builtin `float`. To silence this warning, use `float` by itself. Doing this will not modify any behavior and is safe. If you specifically wanted the numpy scalar type, use `np.float64` here.\n",
      "Deprecated in NumPy 1.20; for more details and guidance: https://numpy.org/devdocs/release/1.20.0-notes.html#deprecations\n",
      "  eps=np.finfo(np.float).eps, copy_X=True, positive=False):\n",
      "/usr/local/lib/python3.7/site-packages/sklearn/linear_model/randomized_l1.py:152: DeprecationWarning: `np.float` is a deprecated alias for the builtin `float`. To silence this warning, use `float` by itself. Doing this will not modify any behavior and is safe. If you specifically wanted the numpy scalar type, use `np.float64` here.\n",
      "Deprecated in NumPy 1.20; for more details and guidance: https://numpy.org/devdocs/release/1.20.0-notes.html#deprecations\n",
      "  precompute=False, eps=np.finfo(np.float).eps,\n",
      "/usr/local/lib/python3.7/site-packages/sklearn/linear_model/randomized_l1.py:320: DeprecationWarning: `np.float` is a deprecated alias for the builtin `float`. To silence this warning, use `float` by itself. Doing this will not modify any behavior and is safe. If you specifically wanted the numpy scalar type, use `np.float64` here.\n",
      "Deprecated in NumPy 1.20; for more details and guidance: https://numpy.org/devdocs/release/1.20.0-notes.html#deprecations\n",
      "  eps=np.finfo(np.float).eps, random_state=None,\n",
      "/usr/local/lib/python3.7/site-packages/sklearn/linear_model/randomized_l1.py:580: DeprecationWarning: `np.float` is a deprecated alias for the builtin `float`. To silence this warning, use `float` by itself. Doing this will not modify any behavior and is safe. If you specifically wanted the numpy scalar type, use `np.float64` here.\n",
      "Deprecated in NumPy 1.20; for more details and guidance: https://numpy.org/devdocs/release/1.20.0-notes.html#deprecations\n",
      "  eps=4 * np.finfo(np.float).eps, n_jobs=None,\n",
      "/usr/local/lib/python3.7/site-packages/sklearn/ensemble/gradient_boosting.py:34: DeprecationWarning: `np.bool` is a deprecated alias for the builtin `bool`. To silence this warning, use `bool` by itself. Doing this will not modify any behavior and is safe. If you specifically wanted the numpy scalar type, use `np.bool_` here.\n",
      "Deprecated in NumPy 1.20; for more details and guidance: https://numpy.org/devdocs/release/1.20.0-notes.html#deprecations\n",
      "  from ._gradient_boosting import predict_stages\n",
      "/usr/local/lib/python3.7/site-packages/sklearn/ensemble/gradient_boosting.py:34: DeprecationWarning: `np.bool` is a deprecated alias for the builtin `bool`. To silence this warning, use `bool` by itself. Doing this will not modify any behavior and is safe. If you specifically wanted the numpy scalar type, use `np.bool_` here.\n",
      "Deprecated in NumPy 1.20; for more details and guidance: https://numpy.org/devdocs/release/1.20.0-notes.html#deprecations\n",
      "  from ._gradient_boosting import predict_stages\n"
     ]
    }
   ],
   "source": [
    "import pandas as pd\n",
    "import matplotlib.pyplot as plt\n",
    "import seaborn as sns\n",
    "\n",
    "from warnings import filterwarnings\n",
    "filterwarnings('ignore') \n",
    "\n",
    "from nltk.corpus import stopwords\n",
    "\n",
    "from textblob import Word\n",
    "\n",
    "from sklearn.feature_extraction.text import CountVectorizer\n",
    "from sklearn.model_selection import train_test_split\n",
    "from sklearn.linear_model import LogisticRegression\n",
    "from sklearn.ensemble import RandomForestClassifier\n",
    "from sklearn.neighbors import KNeighborsClassifier\n",
    "from sklearn.svm import LinearSVC, SVC\n",
    "from sklearn.metrics import accuracy_score"
   ]
  },
  {
   "cell_type": "code",
   "execution_count": 2,
   "metadata": {
    "execution": {
     "iopub.execute_input": "2021-10-31T05:53:18.343788Z",
     "iopub.status.busy": "2021-10-31T05:53:18.343476Z",
     "iopub.status.idle": "2021-10-31T05:53:20.202704Z",
     "shell.execute_reply": "2021-10-31T05:53:20.201922Z",
     "shell.execute_reply.started": "2021-10-31T05:53:18.343757Z"
    }
   },
   "outputs": [],
   "source": [
    "FILENAME = 'DataSarkasme.csv'\n",
    "VECTORIZER_NAME = 'vectorizer.pkl'\n",
    "MODEL_NAME = 'sarcasm.pkl'\n",
    "# FILENAME = 'DataSarkasmeWithSong.csv'\n",
    "# VECTORIZER_NAME = 'vectorizer_with_song.pkl'\n",
    "# MODEL_NAME = 'sarcasm_with_song.pkl'\n",
    "data = pd.read_csv(FILENAME, error_bad_lines=False, names=['text', 'label'], header=None, sep=';')"
   ]
  },
  {
   "cell_type": "code",
   "execution_count": 3,
   "metadata": {
    "execution": {
     "iopub.execute_input": "2021-10-31T05:53:20.206116Z",
     "iopub.status.busy": "2021-10-31T05:53:20.204585Z",
     "iopub.status.idle": "2021-10-31T05:53:20.212579Z",
     "shell.execute_reply": "2021-10-31T05:53:20.211392Z",
     "shell.execute_reply.started": "2021-10-31T05:53:20.206044Z"
    }
   },
   "outputs": [
    {
     "name": "stdout",
     "output_type": "stream",
     "text": [
      "(500, 2)\n"
     ]
    }
   ],
   "source": [
    "print(data.shape)"
   ]
  },
  {
   "cell_type": "code",
   "execution_count": 4,
   "metadata": {
    "execution": {
     "iopub.execute_input": "2021-10-31T06:20:52.252626Z",
     "iopub.status.busy": "2021-10-31T06:20:52.252187Z",
     "iopub.status.idle": "2021-10-31T06:20:52.258864Z",
     "shell.execute_reply": "2021-10-31T06:20:52.257868Z",
     "shell.execute_reply.started": "2021-10-31T06:20:52.25258Z"
    }
   },
   "outputs": [
    {
     "name": "stdout",
     "output_type": "stream",
     "text": [
      "The nltk version is 0.20.0.\n"
     ]
    }
   ],
   "source": [
    "import sklearn\n",
    "print('The nltk version is {}.'.format(sklearn.__version__))"
   ]
  },
  {
   "cell_type": "code",
   "execution_count": 5,
   "metadata": {
    "execution": {
     "iopub.execute_input": "2021-10-31T05:53:20.312611Z",
     "iopub.status.busy": "2021-10-31T05:53:20.31223Z",
     "iopub.status.idle": "2021-10-31T05:53:20.329524Z",
     "shell.execute_reply": "2021-10-31T05:53:20.328381Z",
     "shell.execute_reply.started": "2021-10-31T05:53:20.312566Z"
    }
   },
   "outputs": [
    {
     "data": {
      "text/html": [
       "<div>\n",
       "<style scoped>\n",
       "    .dataframe tbody tr th:only-of-type {\n",
       "        vertical-align: middle;\n",
       "    }\n",
       "\n",
       "    .dataframe tbody tr th {\n",
       "        vertical-align: top;\n",
       "    }\n",
       "\n",
       "    .dataframe thead th {\n",
       "        text-align: right;\n",
       "    }\n",
       "</style>\n",
       "<table border=\"1\" class=\"dataframe\">\n",
       "  <thead>\n",
       "    <tr style=\"text-align: right;\">\n",
       "      <th></th>\n",
       "      <th>text</th>\n",
       "      <th>label</th>\n",
       "    </tr>\n",
       "  </thead>\n",
       "  <tbody>\n",
       "    <tr>\n",
       "      <th>0</th>\n",
       "      <td>Kalau saya menjadi kakaknya, saya tidak mau me...</td>\n",
       "      <td>1</td>\n",
       "    </tr>\n",
       "    <tr>\n",
       "      <th>1</th>\n",
       "      <td>Apakah kamu mau punya tetangga yang sangat kum...</td>\n",
       "      <td>1</td>\n",
       "    </tr>\n",
       "    <tr>\n",
       "      <th>2</th>\n",
       "      <td>Kamu orang yang tidak tahu terimakasih di ruma...</td>\n",
       "      <td>1</td>\n",
       "    </tr>\n",
       "    <tr>\n",
       "      <th>3</th>\n",
       "      <td>Aku sangat kecewa denganmu, aku sudah menganga...</td>\n",
       "      <td>1</td>\n",
       "    </tr>\n",
       "    <tr>\n",
       "      <th>4</th>\n",
       "      <td>Jangan mimpi kamu akan jadi suami dia, kamu ti...</td>\n",
       "      <td>1</td>\n",
       "    </tr>\n",
       "    <tr>\n",
       "      <th>5</th>\n",
       "      <td>Percuma kamu di sekolahkan kalo ucapanmu tetap...</td>\n",
       "      <td>1</td>\n",
       "    </tr>\n",
       "    <tr>\n",
       "      <th>6</th>\n",
       "      <td>Percuma saja Kamu ikut lomba lari, lihatlah ba...</td>\n",
       "      <td>1</td>\n",
       "    </tr>\n",
       "    <tr>\n",
       "      <th>7</th>\n",
       "      <td>Aku tidak bisa berdekatan dengan kamu, karena ...</td>\n",
       "      <td>1</td>\n",
       "    </tr>\n",
       "    <tr>\n",
       "      <th>8</th>\n",
       "      <td>Apa Kamu tidak punya pikiran? Lihat istri dan ...</td>\n",
       "      <td>1</td>\n",
       "    </tr>\n",
       "    <tr>\n",
       "      <th>9</th>\n",
       "      <td>Dia sungguh tidak punya malu sama sekali, suda...</td>\n",
       "      <td>1</td>\n",
       "    </tr>\n",
       "  </tbody>\n",
       "</table>\n",
       "</div>"
      ],
      "text/plain": [
       "                                                text  label\n",
       "0  Kalau saya menjadi kakaknya, saya tidak mau me...      1\n",
       "1  Apakah kamu mau punya tetangga yang sangat kum...      1\n",
       "2  Kamu orang yang tidak tahu terimakasih di ruma...      1\n",
       "3  Aku sangat kecewa denganmu, aku sudah menganga...      1\n",
       "4  Jangan mimpi kamu akan jadi suami dia, kamu ti...      1\n",
       "5  Percuma kamu di sekolahkan kalo ucapanmu tetap...      1\n",
       "6  Percuma saja Kamu ikut lomba lari, lihatlah ba...      1\n",
       "7  Aku tidak bisa berdekatan dengan kamu, karena ...      1\n",
       "8  Apa Kamu tidak punya pikiran? Lihat istri dan ...      1\n",
       "9  Dia sungguh tidak punya malu sama sekali, suda...      1"
      ]
     },
     "execution_count": 5,
     "metadata": {},
     "output_type": "execute_result"
    }
   ],
   "source": [
    "data.head(10)"
   ]
  },
  {
   "cell_type": "code",
   "execution_count": 6,
   "metadata": {
    "execution": {
     "iopub.execute_input": "2021-10-31T05:53:20.33186Z",
     "iopub.status.busy": "2021-10-31T05:53:20.331177Z",
     "iopub.status.idle": "2021-10-31T05:53:20.350778Z",
     "shell.execute_reply": "2021-10-31T05:53:20.349656Z",
     "shell.execute_reply.started": "2021-10-31T05:53:20.33181Z"
    }
   },
   "outputs": [
    {
     "data": {
      "text/plain": [
       "0    264\n",
       "1    236\n",
       "Name: label, dtype: int64"
      ]
     },
     "execution_count": 6,
     "metadata": {},
     "output_type": "execute_result"
    }
   ],
   "source": [
    "data.label.value_counts()"
   ]
  },
  {
   "cell_type": "markdown",
   "metadata": {},
   "source": [
    "## Preprocessing"
   ]
  },
  {
   "cell_type": "code",
   "execution_count": 7,
   "metadata": {
    "execution": {
     "iopub.execute_input": "2021-10-31T05:53:20.353602Z",
     "iopub.status.busy": "2021-10-31T05:53:20.352558Z",
     "iopub.status.idle": "2021-10-31T05:53:20.368716Z",
     "shell.execute_reply": "2021-10-31T05:53:20.367438Z",
     "shell.execute_reply.started": "2021-10-31T05:53:20.353541Z"
    }
   },
   "outputs": [],
   "source": [
    "df=data.copy()"
   ]
  },
  {
   "cell_type": "code",
   "execution_count": 8,
   "metadata": {
    "execution": {
     "iopub.execute_input": "2021-10-31T05:53:20.372402Z",
     "iopub.status.busy": "2021-10-31T05:53:20.372113Z",
     "iopub.status.idle": "2021-10-31T05:53:20.382456Z",
     "shell.execute_reply": "2021-10-31T05:53:20.381626Z",
     "shell.execute_reply.started": "2021-10-31T05:53:20.372346Z"
    }
   },
   "outputs": [],
   "source": [
    "def clean_data(df):\n",
    "    # Lower all characters\n",
    "    df.text=df.text.apply(lambda sen: ' '.join(word.lower() for word in sen.split()))\n",
    "    # Remove symbols\n",
    "    df.text=df.text.apply(lambda sen: ''.join([word for word in sen if word.isalnum() or word==' ']))\n",
    "    # Remove digits\n",
    "    df.text=df.text.str.replace('\\d', '')\n",
    "    # Remove stop words\n",
    "    #sw=stopwords.words('english')\n",
    "    #df.text=df.text.apply(lambda sen: ' '.join([word for word in sen.split() if word not in sw]))\n",
    "    return df"
   ]
  },
  {
   "cell_type": "code",
   "execution_count": 9,
   "metadata": {
    "execution": {
     "iopub.execute_input": "2021-10-31T05:53:20.384128Z",
     "iopub.status.busy": "2021-10-31T05:53:20.383807Z",
     "iopub.status.idle": "2021-10-31T05:53:51.767167Z",
     "shell.execute_reply": "2021-10-31T05:53:51.765956Z",
     "shell.execute_reply.started": "2021-10-31T05:53:20.384095Z"
    }
   },
   "outputs": [],
   "source": [
    "df=clean_data(df)"
   ]
  },
  {
   "cell_type": "code",
   "execution_count": 10,
   "metadata": {},
   "outputs": [
    {
     "data": {
      "text/html": [
       "<div>\n",
       "<style scoped>\n",
       "    .dataframe tbody tr th:only-of-type {\n",
       "        vertical-align: middle;\n",
       "    }\n",
       "\n",
       "    .dataframe tbody tr th {\n",
       "        vertical-align: top;\n",
       "    }\n",
       "\n",
       "    .dataframe thead th {\n",
       "        text-align: right;\n",
       "    }\n",
       "</style>\n",
       "<table border=\"1\" class=\"dataframe\">\n",
       "  <thead>\n",
       "    <tr style=\"text-align: right;\">\n",
       "      <th></th>\n",
       "      <th>text</th>\n",
       "      <th>label</th>\n",
       "    </tr>\n",
       "  </thead>\n",
       "  <tbody>\n",
       "    <tr>\n",
       "      <th>0</th>\n",
       "      <td>kalau saya menjadi kakaknya saya tidak mau men...</td>\n",
       "      <td>1</td>\n",
       "    </tr>\n",
       "    <tr>\n",
       "      <th>1</th>\n",
       "      <td>apakah kamu mau punya tetangga yang sangat kum...</td>\n",
       "      <td>1</td>\n",
       "    </tr>\n",
       "    <tr>\n",
       "      <th>2</th>\n",
       "      <td>kamu orang yang tidak tahu terimakasih di ruma...</td>\n",
       "      <td>1</td>\n",
       "    </tr>\n",
       "    <tr>\n",
       "      <th>3</th>\n",
       "      <td>aku sangat kecewa denganmu aku sudah mengangap...</td>\n",
       "      <td>1</td>\n",
       "    </tr>\n",
       "    <tr>\n",
       "      <th>4</th>\n",
       "      <td>jangan mimpi kamu akan jadi suami dia kamu tid...</td>\n",
       "      <td>1</td>\n",
       "    </tr>\n",
       "    <tr>\n",
       "      <th>...</th>\n",
       "      <td>...</td>\n",
       "      <td>...</td>\n",
       "    </tr>\n",
       "    <tr>\n",
       "      <th>495</th>\n",
       "      <td>pak guru mengizinkan anakanak untuk menggunaka...</td>\n",
       "      <td>0</td>\n",
       "    </tr>\n",
       "    <tr>\n",
       "      <th>496</th>\n",
       "      <td>bina sudah memaafkan kesalahan arif</td>\n",
       "      <td>0</td>\n",
       "    </tr>\n",
       "    <tr>\n",
       "      <th>497</th>\n",
       "      <td>vino memasak nasi goreng untuk sarapan</td>\n",
       "      <td>0</td>\n",
       "    </tr>\n",
       "    <tr>\n",
       "      <th>498</th>\n",
       "      <td>raden meminta ayah untuk membelikan sepeda unt...</td>\n",
       "      <td>0</td>\n",
       "    </tr>\n",
       "    <tr>\n",
       "      <th>499</th>\n",
       "      <td>ibu memasak ikan tongkol di dapur</td>\n",
       "      <td>0</td>\n",
       "    </tr>\n",
       "  </tbody>\n",
       "</table>\n",
       "<p>500 rows × 2 columns</p>\n",
       "</div>"
      ],
      "text/plain": [
       "                                                  text  label\n",
       "0    kalau saya menjadi kakaknya saya tidak mau men...      1\n",
       "1    apakah kamu mau punya tetangga yang sangat kum...      1\n",
       "2    kamu orang yang tidak tahu terimakasih di ruma...      1\n",
       "3    aku sangat kecewa denganmu aku sudah mengangap...      1\n",
       "4    jangan mimpi kamu akan jadi suami dia kamu tid...      1\n",
       "..                                                 ...    ...\n",
       "495  pak guru mengizinkan anakanak untuk menggunaka...      0\n",
       "496                bina sudah memaafkan kesalahan arif      0\n",
       "497             vino memasak nasi goreng untuk sarapan      0\n",
       "498  raden meminta ayah untuk membelikan sepeda unt...      0\n",
       "499                  ibu memasak ikan tongkol di dapur      0\n",
       "\n",
       "[500 rows x 2 columns]"
      ]
     },
     "execution_count": 10,
     "metadata": {},
     "output_type": "execute_result"
    }
   ],
   "source": [
    "df"
   ]
  },
  {
   "cell_type": "code",
   "execution_count": 11,
   "metadata": {
    "execution": {
     "iopub.execute_input": "2021-10-31T05:53:51.770726Z",
     "iopub.status.busy": "2021-10-31T05:53:51.769883Z",
     "iopub.status.idle": "2021-10-31T05:53:55.445301Z",
     "shell.execute_reply": "2021-10-31T05:53:55.444286Z",
     "shell.execute_reply.started": "2021-10-31T05:53:51.770676Z"
    }
   },
   "outputs": [],
   "source": [
    "# Low frequently used words\n",
    "#all_words=pd.Series((' '.join(df.text.values)).split()).value_counts().tail(5000)"
   ]
  },
  {
   "cell_type": "code",
   "execution_count": 12,
   "metadata": {
    "execution": {
     "iopub.execute_input": "2021-10-31T05:53:55.447204Z",
     "iopub.status.busy": "2021-10-31T05:53:55.446963Z",
     "iopub.status.idle": "2021-10-31T05:54:05.30829Z",
     "shell.execute_reply": "2021-10-31T05:54:05.307164Z",
     "shell.execute_reply.started": "2021-10-31T05:53:55.447175Z"
    }
   },
   "outputs": [],
   "source": [
    "# Remove them\n",
    "#df.text=df.text.apply(lambda sen: ' '.join(word for word in sen.split() if word not in all_words))"
   ]
  },
  {
   "cell_type": "code",
   "execution_count": 13,
   "metadata": {
    "execution": {
     "iopub.execute_input": "2021-10-31T05:54:05.31101Z",
     "iopub.status.busy": "2021-10-31T05:54:05.31074Z",
     "iopub.status.idle": "2021-10-31T05:54:58.757473Z",
     "shell.execute_reply": "2021-10-31T05:54:58.756207Z",
     "shell.execute_reply.started": "2021-10-31T05:54:05.310977Z"
    }
   },
   "outputs": [],
   "source": [
    "# Lemmatize words\n",
    "#df.text=df.text.apply(lambda sen: ' '.join([Word(word).lemmatize() for word in sen.split()]))"
   ]
  },
  {
   "cell_type": "code",
   "execution_count": 14,
   "metadata": {
    "execution": {
     "iopub.execute_input": "2021-10-31T05:54:58.760133Z",
     "iopub.status.busy": "2021-10-31T05:54:58.75986Z",
     "iopub.status.idle": "2021-10-31T05:54:58.776383Z",
     "shell.execute_reply": "2021-10-31T05:54:58.775224Z",
     "shell.execute_reply.started": "2021-10-31T05:54:58.760095Z"
    }
   },
   "outputs": [
    {
     "data": {
      "text/html": [
       "<div>\n",
       "<style scoped>\n",
       "    .dataframe tbody tr th:only-of-type {\n",
       "        vertical-align: middle;\n",
       "    }\n",
       "\n",
       "    .dataframe tbody tr th {\n",
       "        vertical-align: top;\n",
       "    }\n",
       "\n",
       "    .dataframe thead th {\n",
       "        text-align: right;\n",
       "    }\n",
       "</style>\n",
       "<table border=\"1\" class=\"dataframe\">\n",
       "  <thead>\n",
       "    <tr style=\"text-align: right;\">\n",
       "      <th></th>\n",
       "      <th>text</th>\n",
       "      <th>label</th>\n",
       "    </tr>\n",
       "  </thead>\n",
       "  <tbody>\n",
       "    <tr>\n",
       "      <th>0</th>\n",
       "      <td>kalau saya menjadi kakaknya saya tidak mau men...</td>\n",
       "      <td>1</td>\n",
       "    </tr>\n",
       "    <tr>\n",
       "      <th>1</th>\n",
       "      <td>apakah kamu mau punya tetangga yang sangat kum...</td>\n",
       "      <td>1</td>\n",
       "    </tr>\n",
       "    <tr>\n",
       "      <th>2</th>\n",
       "      <td>kamu orang yang tidak tahu terimakasih di ruma...</td>\n",
       "      <td>1</td>\n",
       "    </tr>\n",
       "    <tr>\n",
       "      <th>3</th>\n",
       "      <td>aku sangat kecewa denganmu aku sudah mengangap...</td>\n",
       "      <td>1</td>\n",
       "    </tr>\n",
       "    <tr>\n",
       "      <th>4</th>\n",
       "      <td>jangan mimpi kamu akan jadi suami dia kamu tid...</td>\n",
       "      <td>1</td>\n",
       "    </tr>\n",
       "    <tr>\n",
       "      <th>5</th>\n",
       "      <td>percuma kamu di sekolahkan kalo ucapanmu tetap...</td>\n",
       "      <td>1</td>\n",
       "    </tr>\n",
       "    <tr>\n",
       "      <th>6</th>\n",
       "      <td>percuma saja kamu ikut lomba lari lihatlah bad...</td>\n",
       "      <td>1</td>\n",
       "    </tr>\n",
       "    <tr>\n",
       "      <th>7</th>\n",
       "      <td>aku tidak bisa berdekatan dengan kamu karena k...</td>\n",
       "      <td>1</td>\n",
       "    </tr>\n",
       "    <tr>\n",
       "      <th>8</th>\n",
       "      <td>apa kamu tidak punya pikiran lihat istri dan a...</td>\n",
       "      <td>1</td>\n",
       "    </tr>\n",
       "    <tr>\n",
       "      <th>9</th>\n",
       "      <td>dia sungguh tidak punya malu sama sekali sudah...</td>\n",
       "      <td>1</td>\n",
       "    </tr>\n",
       "  </tbody>\n",
       "</table>\n",
       "</div>"
      ],
      "text/plain": [
       "                                                text  label\n",
       "0  kalau saya menjadi kakaknya saya tidak mau men...      1\n",
       "1  apakah kamu mau punya tetangga yang sangat kum...      1\n",
       "2  kamu orang yang tidak tahu terimakasih di ruma...      1\n",
       "3  aku sangat kecewa denganmu aku sudah mengangap...      1\n",
       "4  jangan mimpi kamu akan jadi suami dia kamu tid...      1\n",
       "5  percuma kamu di sekolahkan kalo ucapanmu tetap...      1\n",
       "6  percuma saja kamu ikut lomba lari lihatlah bad...      1\n",
       "7  aku tidak bisa berdekatan dengan kamu karena k...      1\n",
       "8  apa kamu tidak punya pikiran lihat istri dan a...      1\n",
       "9  dia sungguh tidak punya malu sama sekali sudah...      1"
      ]
     },
     "execution_count": 14,
     "metadata": {},
     "output_type": "execute_result"
    }
   ],
   "source": [
    "df.head(10)"
   ]
  },
  {
   "cell_type": "code",
   "execution_count": 15,
   "metadata": {
    "execution": {
     "iopub.execute_input": "2021-10-31T06:04:05.648115Z",
     "iopub.status.busy": "2021-10-31T06:04:05.64779Z",
     "iopub.status.idle": "2021-10-31T06:04:05.67531Z",
     "shell.execute_reply": "2021-10-31T06:04:05.674496Z",
     "shell.execute_reply.started": "2021-10-31T06:04:05.648084Z"
    }
   },
   "outputs": [
    {
     "data": {
      "text/html": [
       "<div>\n",
       "<style scoped>\n",
       "    .dataframe tbody tr th:only-of-type {\n",
       "        vertical-align: middle;\n",
       "    }\n",
       "\n",
       "    .dataframe tbody tr th {\n",
       "        vertical-align: top;\n",
       "    }\n",
       "\n",
       "    .dataframe thead th {\n",
       "        text-align: right;\n",
       "    }\n",
       "</style>\n",
       "<table border=\"1\" class=\"dataframe\">\n",
       "  <thead>\n",
       "    <tr style=\"text-align: right;\">\n",
       "      <th></th>\n",
       "      <th>text</th>\n",
       "      <th>label</th>\n",
       "    </tr>\n",
       "  </thead>\n",
       "  <tbody>\n",
       "    <tr>\n",
       "      <th>0</th>\n",
       "      <td>kalau saya menjadi kakaknya saya tidak mau men...</td>\n",
       "      <td>1</td>\n",
       "    </tr>\n",
       "    <tr>\n",
       "      <th>1</th>\n",
       "      <td>apakah kamu mau punya tetangga yang sangat kum...</td>\n",
       "      <td>1</td>\n",
       "    </tr>\n",
       "    <tr>\n",
       "      <th>2</th>\n",
       "      <td>kamu orang yang tidak tahu terimakasih di ruma...</td>\n",
       "      <td>1</td>\n",
       "    </tr>\n",
       "    <tr>\n",
       "      <th>3</th>\n",
       "      <td>aku sangat kecewa denganmu aku sudah mengangap...</td>\n",
       "      <td>1</td>\n",
       "    </tr>\n",
       "    <tr>\n",
       "      <th>4</th>\n",
       "      <td>jangan mimpi kamu akan jadi suami dia kamu tid...</td>\n",
       "      <td>1</td>\n",
       "    </tr>\n",
       "    <tr>\n",
       "      <th>...</th>\n",
       "      <td>...</td>\n",
       "      <td>...</td>\n",
       "    </tr>\n",
       "    <tr>\n",
       "      <th>495</th>\n",
       "      <td>pak guru mengizinkan anakanak untuk menggunaka...</td>\n",
       "      <td>0</td>\n",
       "    </tr>\n",
       "    <tr>\n",
       "      <th>496</th>\n",
       "      <td>bina sudah memaafkan kesalahan arif</td>\n",
       "      <td>0</td>\n",
       "    </tr>\n",
       "    <tr>\n",
       "      <th>497</th>\n",
       "      <td>vino memasak nasi goreng untuk sarapan</td>\n",
       "      <td>0</td>\n",
       "    </tr>\n",
       "    <tr>\n",
       "      <th>498</th>\n",
       "      <td>raden meminta ayah untuk membelikan sepeda unt...</td>\n",
       "      <td>0</td>\n",
       "    </tr>\n",
       "    <tr>\n",
       "      <th>499</th>\n",
       "      <td>ibu memasak ikan tongkol di dapur</td>\n",
       "      <td>0</td>\n",
       "    </tr>\n",
       "  </tbody>\n",
       "</table>\n",
       "<p>500 rows × 2 columns</p>\n",
       "</div>"
      ],
      "text/plain": [
       "                                                  text  label\n",
       "0    kalau saya menjadi kakaknya saya tidak mau men...      1\n",
       "1    apakah kamu mau punya tetangga yang sangat kum...      1\n",
       "2    kamu orang yang tidak tahu terimakasih di ruma...      1\n",
       "3    aku sangat kecewa denganmu aku sudah mengangap...      1\n",
       "4    jangan mimpi kamu akan jadi suami dia kamu tid...      1\n",
       "..                                                 ...    ...\n",
       "495  pak guru mengizinkan anakanak untuk menggunaka...      0\n",
       "496                bina sudah memaafkan kesalahan arif      0\n",
       "497             vino memasak nasi goreng untuk sarapan      0\n",
       "498  raden meminta ayah untuk membelikan sepeda unt...      0\n",
       "499                  ibu memasak ikan tongkol di dapur      0\n",
       "\n",
       "[500 rows x 2 columns]"
      ]
     },
     "execution_count": 15,
     "metadata": {},
     "output_type": "execute_result"
    }
   ],
   "source": [
    "data=df.copy()\n",
    "df"
   ]
  },
  {
   "cell_type": "code",
   "execution_count": 16,
   "metadata": {
    "execution": {
     "iopub.execute_input": "2021-10-31T06:04:48.979847Z",
     "iopub.status.busy": "2021-10-31T06:04:48.97946Z",
     "iopub.status.idle": "2021-10-31T06:04:49.006955Z",
     "shell.execute_reply": "2021-10-31T06:04:49.005921Z",
     "shell.execute_reply.started": "2021-10-31T06:04:48.979809Z"
    }
   },
   "outputs": [
    {
     "data": {
      "text/html": [
       "<div>\n",
       "<style scoped>\n",
       "    .dataframe tbody tr th:only-of-type {\n",
       "        vertical-align: middle;\n",
       "    }\n",
       "\n",
       "    .dataframe tbody tr th {\n",
       "        vertical-align: top;\n",
       "    }\n",
       "\n",
       "    .dataframe thead th {\n",
       "        text-align: right;\n",
       "    }\n",
       "</style>\n",
       "<table border=\"1\" class=\"dataframe\">\n",
       "  <thead>\n",
       "    <tr style=\"text-align: right;\">\n",
       "      <th></th>\n",
       "      <th>index</th>\n",
       "      <th>text</th>\n",
       "      <th>label</th>\n",
       "    </tr>\n",
       "  </thead>\n",
       "  <tbody>\n",
       "    <tr>\n",
       "      <th>0</th>\n",
       "      <td>0</td>\n",
       "      <td>kalau saya menjadi kakaknya saya tidak mau men...</td>\n",
       "      <td>1</td>\n",
       "    </tr>\n",
       "    <tr>\n",
       "      <th>1</th>\n",
       "      <td>1</td>\n",
       "      <td>apakah kamu mau punya tetangga yang sangat kum...</td>\n",
       "      <td>1</td>\n",
       "    </tr>\n",
       "    <tr>\n",
       "      <th>2</th>\n",
       "      <td>2</td>\n",
       "      <td>kamu orang yang tidak tahu terimakasih di ruma...</td>\n",
       "      <td>1</td>\n",
       "    </tr>\n",
       "    <tr>\n",
       "      <th>3</th>\n",
       "      <td>3</td>\n",
       "      <td>aku sangat kecewa denganmu aku sudah mengangap...</td>\n",
       "      <td>1</td>\n",
       "    </tr>\n",
       "    <tr>\n",
       "      <th>4</th>\n",
       "      <td>4</td>\n",
       "      <td>jangan mimpi kamu akan jadi suami dia kamu tid...</td>\n",
       "      <td>1</td>\n",
       "    </tr>\n",
       "    <tr>\n",
       "      <th>...</th>\n",
       "      <td>...</td>\n",
       "      <td>...</td>\n",
       "      <td>...</td>\n",
       "    </tr>\n",
       "    <tr>\n",
       "      <th>495</th>\n",
       "      <td>495</td>\n",
       "      <td>pak guru mengizinkan anakanak untuk menggunaka...</td>\n",
       "      <td>0</td>\n",
       "    </tr>\n",
       "    <tr>\n",
       "      <th>496</th>\n",
       "      <td>496</td>\n",
       "      <td>bina sudah memaafkan kesalahan arif</td>\n",
       "      <td>0</td>\n",
       "    </tr>\n",
       "    <tr>\n",
       "      <th>497</th>\n",
       "      <td>497</td>\n",
       "      <td>vino memasak nasi goreng untuk sarapan</td>\n",
       "      <td>0</td>\n",
       "    </tr>\n",
       "    <tr>\n",
       "      <th>498</th>\n",
       "      <td>498</td>\n",
       "      <td>raden meminta ayah untuk membelikan sepeda unt...</td>\n",
       "      <td>0</td>\n",
       "    </tr>\n",
       "    <tr>\n",
       "      <th>499</th>\n",
       "      <td>499</td>\n",
       "      <td>ibu memasak ikan tongkol di dapur</td>\n",
       "      <td>0</td>\n",
       "    </tr>\n",
       "  </tbody>\n",
       "</table>\n",
       "<p>500 rows × 3 columns</p>\n",
       "</div>"
      ],
      "text/plain": [
       "     index                                               text  label\n",
       "0        0  kalau saya menjadi kakaknya saya tidak mau men...      1\n",
       "1        1  apakah kamu mau punya tetangga yang sangat kum...      1\n",
       "2        2  kamu orang yang tidak tahu terimakasih di ruma...      1\n",
       "3        3  aku sangat kecewa denganmu aku sudah mengangap...      1\n",
       "4        4  jangan mimpi kamu akan jadi suami dia kamu tid...      1\n",
       "..     ...                                                ...    ...\n",
       "495    495  pak guru mengizinkan anakanak untuk menggunaka...      0\n",
       "496    496                bina sudah memaafkan kesalahan arif      0\n",
       "497    497             vino memasak nasi goreng untuk sarapan      0\n",
       "498    498  raden meminta ayah untuk membelikan sepeda unt...      0\n",
       "499    499                  ibu memasak ikan tongkol di dapur      0\n",
       "\n",
       "[500 rows x 3 columns]"
      ]
     },
     "execution_count": 16,
     "metadata": {},
     "output_type": "execute_result"
    }
   ],
   "source": [
    "df.reset_index()"
   ]
  },
  {
   "cell_type": "code",
   "execution_count": 17,
   "metadata": {
    "execution": {
     "iopub.execute_input": "2021-10-31T06:05:05.908458Z",
     "iopub.status.busy": "2021-10-31T06:05:05.907871Z",
     "iopub.status.idle": "2021-10-31T06:05:05.919465Z",
     "shell.execute_reply": "2021-10-31T06:05:05.918594Z",
     "shell.execute_reply.started": "2021-10-31T06:05:05.908421Z"
    }
   },
   "outputs": [],
   "source": [
    "T=df[['text']]\n",
    "Y=df[['label']]"
   ]
  },
  {
   "cell_type": "code",
   "execution_count": 18,
   "metadata": {},
   "outputs": [
    {
     "data": {
      "text/plain": [
       "0      kalau saya menjadi kakaknya saya tidak mau men...\n",
       "1      apakah kamu mau punya tetangga yang sangat kum...\n",
       "2      kamu orang yang tidak tahu terimakasih di ruma...\n",
       "3      aku sangat kecewa denganmu aku sudah mengangap...\n",
       "4      jangan mimpi kamu akan jadi suami dia kamu tid...\n",
       "                             ...                        \n",
       "495    pak guru mengizinkan anakanak untuk menggunaka...\n",
       "496                  bina sudah memaafkan kesalahan arif\n",
       "497               vino memasak nasi goreng untuk sarapan\n",
       "498    raden meminta ayah untuk membelikan sepeda unt...\n",
       "499                    ibu memasak ikan tongkol di dapur\n",
       "Name: text, Length: 500, dtype: object"
      ]
     },
     "execution_count": 18,
     "metadata": {},
     "output_type": "execute_result"
    }
   ],
   "source": [
    "T.text"
   ]
  },
  {
   "cell_type": "code",
   "execution_count": 19,
   "metadata": {},
   "outputs": [],
   "source": [
    "vectorizer = CountVectorizer(analyzer='word', ngram_range=(1, 2))\n",
    "X = vectorizer.fit_transform(T.text)"
   ]
  },
  {
   "cell_type": "code",
   "execution_count": 20,
   "metadata": {},
   "outputs": [
    {
     "data": {
      "text/plain": [
       "['vectorizer.pkl']"
      ]
     },
     "execution_count": 20,
     "metadata": {},
     "output_type": "execute_result"
    }
   ],
   "source": [
    "import joblib\n",
    "\n",
    "joblib.dump(vectorizer.vocabulary_, VECTORIZER_NAME, compress=9)"
   ]
  },
  {
   "cell_type": "code",
   "execution_count": 21,
   "metadata": {},
   "outputs": [
    {
     "name": "stderr",
     "output_type": "stream",
     "text": [
      "/usr/local/lib/python3.7/site-packages/sklearn/model_selection/_split.py:1499: DeprecationWarning: `np.int` is a deprecated alias for the builtin `int`. To silence this warning, use `int` by itself. Doing this will not modify any behavior and is safe. When replacing `np.int`, you may wish to use e.g. `np.int64` or `np.int32` to specify the precision. If you wish to review your current use, check the release note link for additional information.\n",
      "Deprecated in NumPy 1.20; for more details and guidance: https://numpy.org/devdocs/release/1.20.0-notes.html#deprecations\n",
      "  return floored.astype(np.int)\n",
      "/usr/local/lib/python3.7/site-packages/sklearn/model_selection/_split.py:1499: DeprecationWarning: `np.int` is a deprecated alias for the builtin `int`. To silence this warning, use `int` by itself. Doing this will not modify any behavior and is safe. When replacing `np.int`, you may wish to use e.g. `np.int64` or `np.int32` to specify the precision. If you wish to review your current use, check the release note link for additional information.\n",
      "Deprecated in NumPy 1.20; for more details and guidance: https://numpy.org/devdocs/release/1.20.0-notes.html#deprecations\n",
      "  return floored.astype(np.int)\n"
     ]
    }
   ],
   "source": [
    "X_train, X_test, Y_train, Y_test=train_test_split(X, Y, test_size=0.2, random_state=12, stratify=Y)"
   ]
  },
  {
   "cell_type": "code",
   "execution_count": 22,
   "metadata": {
    "execution": {
     "iopub.execute_input": "2021-10-31T06:05:47.732599Z",
     "iopub.status.busy": "2021-10-31T06:05:47.731715Z",
     "iopub.status.idle": "2021-10-31T06:05:47.740826Z",
     "shell.execute_reply": "2021-10-31T06:05:47.739832Z",
     "shell.execute_reply.started": "2021-10-31T06:05:47.732529Z"
    }
   },
   "outputs": [
    {
     "name": "stdout",
     "output_type": "stream",
     "text": [
      "(400, 5606) (100, 5606) (400, 1) (100, 1)\n"
     ]
    }
   ],
   "source": [
    "print(X_train.shape, X_test.shape, Y_train.shape, Y_test.shape)"
   ]
  },
  {
   "cell_type": "code",
   "execution_count": 23,
   "metadata": {},
   "outputs": [
    {
     "name": "stdout",
     "output_type": "stream",
     "text": [
      "0    211\n",
      "1    189\n",
      "Name: label, dtype: int64\n"
     ]
    }
   ],
   "source": [
    "print(Y_train.label.value_counts())"
   ]
  },
  {
   "cell_type": "code",
   "execution_count": 24,
   "metadata": {},
   "outputs": [
    {
     "name": "stdout",
     "output_type": "stream",
     "text": [
      "0    53\n",
      "1    47\n",
      "Name: label, dtype: int64\n"
     ]
    }
   ],
   "source": [
    "print(Y_test.label.value_counts())"
   ]
  },
  {
   "cell_type": "code",
   "execution_count": 25,
   "metadata": {
    "execution": {
     "iopub.execute_input": "2021-10-31T06:23:33.641477Z",
     "iopub.status.busy": "2021-10-31T06:23:33.64109Z",
     "iopub.status.idle": "2021-10-31T06:23:33.647806Z",
     "shell.execute_reply": "2021-10-31T06:23:33.646675Z",
     "shell.execute_reply.started": "2021-10-31T06:23:33.641436Z"
    }
   },
   "outputs": [],
   "source": [
    "stats = {}"
   ]
  },
  {
   "cell_type": "markdown",
   "metadata": {},
   "source": [
    "## LinearSVC"
   ]
  },
  {
   "cell_type": "code",
   "execution_count": 26,
   "metadata": {
    "execution": {
     "iopub.execute_input": "2021-10-31T06:31:29.383855Z",
     "iopub.status.busy": "2021-10-31T06:31:29.383486Z",
     "iopub.status.idle": "2021-10-31T06:31:41.853857Z",
     "shell.execute_reply": "2021-10-31T06:31:41.853221Z",
     "shell.execute_reply.started": "2021-10-31T06:31:29.383797Z"
    }
   },
   "outputs": [
    {
     "name": "stdout",
     "output_type": "stream",
     "text": [
      "Accuracy score: 95.0%\n"
     ]
    },
    {
     "name": "stderr",
     "output_type": "stream",
     "text": [
      "/usr/local/lib/python3.7/site-packages/sklearn/linear_model/base.py:283: DeprecationWarning: `np.int` is a deprecated alias for the builtin `int`. To silence this warning, use `int` by itself. Doing this will not modify any behavior and is safe. When replacing `np.int`, you may wish to use e.g. `np.int64` or `np.int32` to specify the precision. If you wish to review your current use, check the release note link for additional information.\n",
      "Deprecated in NumPy 1.20; for more details and guidance: https://numpy.org/devdocs/release/1.20.0-notes.html#deprecations\n",
      "  indices = (scores > 0).astype(np.int)\n"
     ]
    }
   ],
   "source": [
    "svc=LinearSVC().fit(X_train, Y_train)\n",
    "Y_pred=svc.predict(X_test)\n",
    "acc_svc=round(accuracy_score(Y_pred, Y_test)*100, 2)\n",
    "stats['LinearSVC']=acc_svc\n",
    "print(f'Accuracy score: {acc_svc}%')"
   ]
  },
  {
   "cell_type": "code",
   "execution_count": 27,
   "metadata": {},
   "outputs": [
    {
     "name": "stdout",
     "output_type": "stream",
     "text": [
      "Accuracy score: 95.0%\n"
     ]
    }
   ],
   "source": [
    "svc2=SVC().fit(X_train, Y_train)\n",
    "Y_pred2=svc2.predict(X_test)\n",
    "acc_svc2=round(accuracy_score(Y_pred, Y_test)*100, 2)\n",
    "stats['SVC']=acc_svc2\n",
    "print(f'Accuracy score: {acc_svc2}%')"
   ]
  },
  {
   "cell_type": "code",
   "execution_count": 28,
   "metadata": {},
   "outputs": [
    {
     "data": {
      "text/plain": [
       "array([[53,  0],\n",
       "       [47,  0]])"
      ]
     },
     "execution_count": 28,
     "metadata": {},
     "output_type": "execute_result"
    }
   ],
   "source": [
    "from sklearn.metrics import confusion_matrix\n",
    "confusion_matrix(Y_test, Y_pred2, labels=svc2.classes_)"
   ]
  },
  {
   "cell_type": "code",
   "execution_count": 29,
   "metadata": {},
   "outputs": [
    {
     "data": {
      "text/plain": [
       "['sarcasm.pkl']"
      ]
     },
     "execution_count": 29,
     "metadata": {},
     "output_type": "execute_result"
    }
   ],
   "source": [
    "\n",
    "joblib.dump(svc2, MODEL_NAME, compress=9)"
   ]
  },
  {
   "cell_type": "code",
   "execution_count": 30,
   "metadata": {
    "execution": {
     "iopub.execute_input": "2021-10-31T06:32:16.36091Z",
     "iopub.status.busy": "2021-10-31T06:32:16.360574Z",
     "iopub.status.idle": "2021-10-31T06:32:16.368535Z",
     "shell.execute_reply": "2021-10-31T06:32:16.367638Z",
     "shell.execute_reply.started": "2021-10-31T06:32:16.360864Z"
    }
   },
   "outputs": [
    {
     "data": {
      "text/plain": [
       "{'LinearSVC': 95.0, 'SVC': 95.0}"
      ]
     },
     "execution_count": 30,
     "metadata": {},
     "output_type": "execute_result"
    }
   ],
   "source": [
    "stats"
   ]
  },
  {
   "cell_type": "code",
   "execution_count": 31,
   "metadata": {
    "execution": {
     "iopub.execute_input": "2021-10-31T06:33:38.803358Z",
     "iopub.status.busy": "2021-10-31T06:33:38.802722Z",
     "iopub.status.idle": "2021-10-31T06:33:38.813356Z",
     "shell.execute_reply": "2021-10-31T06:33:38.812693Z",
     "shell.execute_reply.started": "2021-10-31T06:33:38.803318Z"
    }
   },
   "outputs": [
    {
     "data": {
      "text/plain": [
       "LinearSVC    95.0\n",
       "SVC          95.0\n",
       "dtype: float64"
      ]
     },
     "execution_count": 31,
     "metadata": {},
     "output_type": "execute_result"
    }
   ],
   "source": [
    "results=pd.Series(stats)\n",
    "results"
   ]
  },
  {
   "cell_type": "code",
   "execution_count": 32,
   "metadata": {
    "execution": {
     "iopub.execute_input": "2021-10-31T06:35:44.392334Z",
     "iopub.status.busy": "2021-10-31T06:35:44.391746Z",
     "iopub.status.idle": "2021-10-31T06:35:44.62979Z",
     "shell.execute_reply": "2021-10-31T06:35:44.62897Z",
     "shell.execute_reply.started": "2021-10-31T06:35:44.392299Z"
    }
   },
   "outputs": [
    {
     "data": {
      "image/png": "[encoded data removed]",
      "text/plain": [
       "<Figure size 432x288 with 1 Axes>"
      ]
     },
     "metadata": {
      "needs_background": "light"
     },
     "output_type": "display_data"
    }
   ],
   "source": [
    "sns.barplot(results.index, results.values)\n",
    "plt.xticks(rotation=20)\n",
    "plt.show()"
   ]
  },
  {
   "cell_type": "markdown",
   "metadata": {},
   "source": [
    "## Demo"
   ]
  },
  {
   "cell_type": "code",
   "execution_count": 33,
   "metadata": {},
   "outputs": [],
   "source": [
    "text =  'aku tak mau selain cuma kamu\\ndalam hatiku yang ada cuma kamu\\nyang aku mau tak lain cuma kamu\\nhanyalah kamu satu cuma kamu\\naku mau cuma kamu, cuma kamu\\naku mau cuma kamu, cuma kamu\\naku mau cuma kamu, cuma kamu\\naku mau cuma kamu, cuma kamu\\naku memang cantik dan bodiku yang paling seksi\\nlihatlah sekujur tubuhku meliuk-liuk\\njika ku goyang kau hanya boleh melihat\\nkau boleh lihat tapi jangan coba mendekat\\ncinta ini sudah ada yang isi\\ndan tak mungkin berpaling ke lain hati\\ncuma kamu yang ku mau\\ndan tak pernah selain kamu\\nkau lihat senyumanku dan goyangan pinggulku\\nseksi bodiku ini kan cuma buat kamu\\naku mau cuma kamu, cuma kamu\\naku mau cuma kamu, cuma kamu\\naku mau cuma kamu, cuma kamu\\naku mau cuma kamu, cuma kamu\\nkala ku pandang kerlip bintang jauh di sana\\ngantengnya kamu membuat aku terpesona\\ntapi sejak awal ku cuma main gila\\ndan akhirnya kini ku jatuh cinta\\nwalau ku tahu kau sudah ada yang punya\\ntapi gak takut namanya juga menggoda\\naku tak mau selain cuma kamu\\ndalam hatiku yang ada cuma kamu\\nyang aku mau tak lain cuma kamu\\nhanyalah kamu satu cuma kamu\\naku tak mau kalau aku dimadu\\naku mau cuma kamu, cuma kamu\\naku mau cuma kamu, cuma kamu\\naku mau cuma kamu, cuma kamu\\naku mau cuma kamu, cuma kamu\\naku mau cuma kamu, cuma kamu\\naku mau cuma kamu, cuma kamu\\naku mau cuma kamu, cuma kamu\\naku mau cuma kamu, cuma kamu\\n'\n",
    "df_demo = pd.DataFrame({'text':[text]})\n",
    "df_demo=clean_data(df_demo)"
   ]
  },
  {
   "cell_type": "code",
   "execution_count": 34,
   "metadata": {},
   "outputs": [
    {
     "data": {
      "text/plain": [
       "1"
      ]
     },
     "execution_count": 34,
     "metadata": {},
     "output_type": "execute_result"
    }
   ],
   "source": [
    "sarcasm = joblib.load(MODEL_NAME)\n",
    "vector = CountVectorizer(decode_error=\"replace\", vocabulary=joblib.load(VECTORIZER_NAME))\n",
    "\n",
    "X = vector.fit_transform(df_demo.text)\n",
    "result = sarcasm.predict(X)\n",
    "result[0]"
   ]
  },
  {
   "cell_type": "code",
   "execution_count": 35,
   "metadata": {},
   "outputs": [],
   "source": [
    "text = \"terasakan bagai mekar terbit asmara\\nmerangkai cita harap pujiku memanja\\nufuk surya seakan membias salam\\nlewat sang alam, bak dilukiskan kalam\\nterayun langkahku mengiring ayun langkahmu\\nsenada searah melambung tinggi impian\\nkilau emas jangankan kami kan hirau\\njangankan silau pun terpukau\\nreff.\\ndadadadada......\\nterhampar mekar mawar kugapai kau menjuntai\\nmengoyak nestapa kukini t'lah terbuai\\nsemaraknya hati tak usai beranjak\\npun tak ku campak cerahkan nampak kelak\\nasmaraku asmaramu membara sempurna\\nmanjanya tawa melukis manisnya warna\\nbahagiaku bahagiamu telah menjelma\\ndunia bak milik berdua\\n\"\n",
    "df_demo = pd.DataFrame({'text':[text]})\n",
    "df_demo=clean_data(df_demo)"
   ]
  },
  {
   "cell_type": "code",
   "execution_count": 36,
   "metadata": {},
   "outputs": [
    {
     "data": {
      "text/plain": [
       "0"
      ]
     },
     "execution_count": 36,
     "metadata": {},
     "output_type": "execute_result"
    }
   ],
   "source": [
    "X = vector.fit_transform(df_demo.text)\n",
    "result = sarcasm.predict(X)\n",
    "result[0]"
   ]
  },
  {
   "cell_type": "code",
   "execution_count": null,
   "metadata": {},
   "outputs": [],
   "source": []
  },
  {
   "cell_type": "code",
   "execution_count": null,
   "metadata": {},
   "outputs": [],
   "source": []
  }
 ],
 "metadata": {
  "kernelspec": {
   "display_name": "Python 3",
   "language": "python",
   "name": "python3"
  },
  "language_info": {
   "codemirror_mode": {
    "name": "ipython",
    "version": 3
   },
   "file_extension": ".py",
   "mimetype": "text/x-python",
   "name": "python",
   "nbconvert_exporter": "python",
   "pygments_lexer": "ipython3",
   "version": "3.7.9"
  }
 },
 "nbformat": 4,
 "nbformat_minor": 4
}
